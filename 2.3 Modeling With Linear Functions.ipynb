{
 "cells": [
  {
   "cell_type": "markdown",
   "metadata": {},
   "source": [
    "This chapter was mostly problem solving, without any new definitions. So, rather than notes I'll use what I know about linear functions to solve some problems. The real strength of building these models isn't just finding a single value, but, now that we have defined a function for the problem we can reuse it for many different values - assuming that the values are in the domain of the function."
   ]
  },
  {
   "cell_type": "markdown",
   "metadata": {},
   "source": [
    "### Example 1\n",
    "### a)\n",
    "Ken is a a top notch programmer *(citation needed)* who can debug 10k lines of code per day. He has 115k lines of code left to debug. How many days will it take him to debug the remaining code?\n",
    "\n",
    "So we have our y-intercept, $115$, which is what we're counting down from. We have the slope of the line as $-10$, which is lines of code (rise), over a single day (the run). So now we have $y = -10x + 115$. We know that when $y$ (the remaining lines of code) reaches $0$, that all the code has been debugged. So what we're looking for is the x-intercept, or, the value of $x$ when $y = 0$. Note that I'm using shorthand because 10,000 and 115,000 are multiples of 1,000.\n",
    "\n",
    "$0 = -10x + 115$\n",
    "\n",
    "$-115 = -10x$\n",
    "\n",
    "$\\frac{-115}{-10} = x$\n",
    "\n",
    "$x = 11.5$\n",
    "\n",
    "It will take Ken $11.5$ days to debug 115,000 lines of code.\n",
    "\n",
    "### b)\n",
    "\n",
    "If we wanted to find how long it would take to debug 13,736,264 lines, it's just as simple (algebraically) as the last question:\n",
    "\n",
    "$0 = -10000x + 13736264$\n",
    "\n",
    "$-13736264 = -10000x$\n",
    "\n",
    "$\\frac{-13736264}{-10000} = x$\n",
    "\n",
    "$x = 1373.63$\n",
    "\n",
    "It will take Ken 1,373.63 days to debug 13,736,264 lines of code."
   ]
  },
  {
   "cell_type": "markdown",
   "metadata": {},
   "source": [
    "### Example 2\n",
    "Bob wants to use some extra space in his factory to install a machine to make widgets. The machine has a fixed cost of $250,000. The widgets cost `$`10 to make and Bob can sell them for `$`15. How many widgets must he sell to break even?\n",
    "\n",
    "### a)\n",
    "\n",
    "So we'll have two equations when this is done: one representing costs, and another representing revenue. Let's define our costs equation as a function, $C(x)$. We know that the minimal cost that Bob is incurring is the cost of the machine, `$`250,000, so this is our y-intercept. The slope of the line will be the cost (rise) to produce a single widget (run), so we wind up with the function $C(x) = 10x + 250000$.\n",
    "\n",
    "Let's call the revenue function $R(x)$. Revenue starts at 0, so the y-intercept will be 0. The slope of the line will be the revenue (rise) from selling a single widget (run). So we wind up with the function $R(x) = 15x$.\n",
    "\n",
    "Now that we have our two equations, we can graph them and find the point where they intersect. Where they intersect on the x-axis is the number of widgets Bob must sell to break even."
   ]
  },
  {
   "cell_type": "code",
   "execution_count": 5,
   "metadata": {
    "collapsed": false
   },
   "outputs": [
    {
     "data": {
      "text/plain": [
       "[<matplotlib.lines.Line2D at 0x7fbf9da2eb38>]"
      ]
     },
     "execution_count": 5,
     "metadata": {},
     "output_type": "execute_result"
    },
    {
     "data": {
      "image/png": "[encoded data removed]",
      "text/plain": [
       "<matplotlib.figure.Figure at 0x7fbfa24d7a58>"
      ]
     },
     "metadata": {},
     "output_type": "display_data"
    }
   ],
   "source": [
    "%matplotlib inline\n",
    "import matplotlib.pyplot as plt\n",
    "import numpy as np\n",
    "\n",
    "def costs(x):\n",
    "    return 10 * x + 250000\n",
    "\n",
    "def revenue(x):\n",
    "    return 15 * x\n",
    "\n",
    "x = np.linspace(0, 100000, 2)\n",
    "\n",
    "plt.xlim(40000, 60000)\n",
    "plt.ylim(600000, 800000)\n",
    "plt.plot(x, costs(x))\n",
    "plt.plot(x, revenue(x))"
   ]
  },
  {
   "cell_type": "markdown",
   "metadata": {},
   "source": [
    "So we can see on our graph that the break even quantity is $\\approx 50000$.\n",
    "\n",
    "### b)\n",
    "\n",
    "Another way to get the break-even quantity is to solve it algebraically. By finding for what value of $x$ that makes the two functions equal, we can find where they intersect.\n",
    "\n",
    "$10x + 250000 = 15x$\n",
    "\n",
    "$250000 = 5x$\n",
    "\n",
    "$\\frac{250000}{5} = \\frac{5x}{5}$\n",
    "\n",
    "$50000 = x$\n",
    "\n",
    "So now we know that the break-even quantity is 50,000."
   ]
  }
 ],
 "metadata": {
  "kernelspec": {
   "display_name": "Python 3",
   "language": "python",
   "name": "python3"
  },
  "language_info": {
   "codemirror_mode": {
    "name": "ipython",
    "version": 3
   },
   "file_extension": ".py",
   "mimetype": "text/x-python",
   "name": "python",
   "nbconvert_exporter": "python",
   "pygments_lexer": "ipython3",
   "version": "3.6.0"
  }
 },
 "nbformat": 4,
 "nbformat_minor": 2
}
