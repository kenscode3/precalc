{
 "cells": [
  {
   "cell_type": "markdown",
   "metadata": {},
   "source": [
    "### Linear Functions\n",
    "A linear function is a function with a constant rate of change. This can also be defined as a polynomial with a degree of 1.\n",
    "\n",
    "The **slope-intercept form** is the equation $y = mx + b$. Where $m$ is the rate of change, $x$ is the input value, and $b$ is the initial value of the dependent variable. The y-intercept is at $(0, b)$.\n",
    "\n",
    "The slope determines whether the function is an **increasing linear function** or **decreasing linear function**. If $m > 0$, then the function is increasting. If $m < 0$, then the function is decreasing. If $m = 0$, then the function is constant.\n",
    "\n",
    "#### Point-Slope Form\n",
    "We can get the slope-intercept form of a linear equation if we know the slope of a line and one point. The point-slope form takes the form $y - y_1 = m(x - x_1)$. If we have a slope of $2$, and a point $(4, 1)$, we can substitute these values into the equation: $y - 1 = 2(x - 4)$, which evaluates to: $y = 2x - 7$.\n",
    "\n",
    "#### Equation of a Line Using Two Points\n",
    "Using the average rate of change formula gives us the $m$ in the slope-intercept form $y = mx + b$. We can then substitute the first point into the point-slope form to give us the slope-intercept form:\n",
    "\n",
    "If we have the points (5, 1) and (8, 7) then we substitute:\n",
    "\n",
    "$m = \\frac{7 - 1}{8 - 5} = 2$\n",
    "\n",
    "Then substitute our slope and either point into the point-slope equation. Here we're using the first point (5, 1):\n",
    "\n",
    "$y - 1 = 2(x - 5)$\n",
    "\n",
    "Which simplifies to:\n",
    "\n",
    "$y = 2x - 9$"
   ]
  },
  {
   "cell_type": "code",
   "execution_count": null,
   "metadata": {
    "collapsed": true
   },
   "outputs": [],
   "source": []
  }
 ],
 "metadata": {
  "kernelspec": {
   "display_name": "Python 3",
   "language": "python",
   "name": "python3"
  },
  "language_info": {
   "codemirror_mode": {
    "name": "ipython",
    "version": 3
   },
   "file_extension": ".py",
   "mimetype": "text/x-python",
   "name": "python",
   "nbconvert_exporter": "python",
   "pygments_lexer": "ipython3",
   "version": "3.6.0"
  }
 },
 "nbformat": 4,
 "nbformat_minor": 2
}
