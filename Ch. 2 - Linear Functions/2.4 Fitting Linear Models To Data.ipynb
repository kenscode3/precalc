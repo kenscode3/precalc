{
 "cells": [
  {
   "cell_type": "markdown",
   "metadata": {},
   "source": [
    "### Finding the Line of Best Fit\n",
    "Using the line of best fit, we can approximate a linear function for a scatter plot. We first draw a line through the scatter plot that roughly passes through the plotted points. Then, by finding the y-intercept and the slope of that line, we can estimate what the linear function of the graph is.\n",
    "\n",
    "**Interpolation** is a method to estimate the value of a linear function that is inside the domain and/or range of the function.\n",
    "\n",
    "**Extrapolation** is a method to estimate a value of a linear function that is outside of the domain and/or range of the function."
   ]
  }
 ],
 "metadata": {
  "kernelspec": {
   "display_name": "Python 3",
   "language": "python",
   "name": "python3"
  },
  "language_info": {
   "codemirror_mode": {
    "name": "ipython",
    "version": 3
   },
   "file_extension": ".py",
   "mimetype": "text/x-python",
   "name": "python",
   "nbconvert_exporter": "python",
   "pygments_lexer": "ipython3",
   "version": "3.6.0"
  }
 },
 "nbformat": 4,
 "nbformat_minor": 2
}
