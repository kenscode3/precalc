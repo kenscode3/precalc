{
 "cells": [
  {
   "cell_type": "markdown",
   "metadata": {},
   "source": [
    "### Combining Functions Algebraically\n",
    "For functions with real number inputs, we can define new functions:\n",
    "\n",
    "$f(x) + g(x) = (f + g)(x)$\n",
    "\n",
    "$f(x) - g(x) = (f - g)(x)$\n",
    "\n",
    "$f(x)g(x) = (fg)(x)$\n",
    "\n",
    "$\\frac{f(x)}{g(x)} = (\\frac{f}{g})(x)$"
   ]
  },
  {
   "cell_type": "markdown",
   "metadata": {},
   "source": [
    "### Composition of Functions\n",
    "Combining functions by passing the output of one function as the input as another is known as a **composite function**:\n",
    "\n",
    "$f(g(x)) = (f\\circ g(x))$\n",
    "\n",
    "read: \"f composed with g at x is equal to f of g of x\"\n",
    "\n",
    "The domain of a composition function is all $x$ such that $x$ is in the domain of $g$ and $g(x)$ is in the domain of $f$."
   ]
  },
  {
   "cell_type": "code",
   "execution_count": 8,
   "metadata": {
    "collapsed": false
   },
   "outputs": [
    {
     "data": {
      "text/plain": [
       "400"
      ]
     },
     "execution_count": 8,
     "metadata": {},
     "output_type": "execute_result"
    }
   ],
   "source": [
    "# Exercise:\n",
    "def f(x):\n",
    "    return x\n",
    "\n",
    "def g(x):\n",
    "    return 2 * x\n",
    "\n",
    "def h(x):\n",
    "    return x**2\n",
    "\n",
    "def composer(list_of_functions, x):\n",
    "    num = x\n",
    "    for i in list_of_functions:\n",
    "        num = i(num)\n",
    "    return num\n",
    "    \n",
    "list_of_functions = [f, g, h]\n",
    "\n",
    "# evaluates functions from left-to-right, as declared in the list\n",
    "composer(list_of_functions, 10)"
   ]
  }
 ],
 "metadata": {
  "kernelspec": {
   "display_name": "Python 3",
   "language": "python",
   "name": "python3"
  },
  "language_info": {
   "codemirror_mode": {
    "name": "ipython",
    "version": 3
   },
   "file_extension": ".py",
   "mimetype": "text/x-python",
   "name": "python",
   "nbconvert_exporter": "python",
   "pygments_lexer": "ipython3",
   "version": "3.6.0"
  }
 },
 "nbformat": 4,
 "nbformat_minor": 2
}
